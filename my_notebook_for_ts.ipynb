{
 "cells": [
  {
   "cell_type": "code",
   "execution_count": 1,
   "id": "8178ead5",
   "metadata": {},
   "outputs": [],
   "source": [
    "from src.ai_insights.domain.embedding import Embedding\n",
    "\n",
    "from src.ai_insights.application.use_cases import (\n",
    "    list_replays_by_recom\n",
    ")\n",
    "\n",
    "from src.ai_insights.infrastructure.adapters.database.replays_df_repo import (\n",
    "    ReplaysDfRepo\n",
    ")\n",
    "\n",
    "from src.ai_insights.infrastructure.adapters.game_api_clients.brawl_stars_client import (\n",
    "    BrawlStarsClient\n",
    ")"
   ]
  },
  {
   "cell_type": "code",
   "execution_count": 2,
   "id": "cf5fb665",
   "metadata": {},
   "outputs": [],
   "source": [
    "import os\n",
    "from dotenv import load_dotenv\n",
    "\n",
    "import pandas as pd"
   ]
  },
  {
   "cell_type": "code",
   "execution_count": 3,
   "id": "e18fb6b3",
   "metadata": {},
   "outputs": [],
   "source": [
    "load_dotenv()\n",
    "# Set the API key for Brawl Stars\n",
    "API_KEY = os.getenv(\"BRAWL_STARS_API_KEY\").replace(\"'\", \"\")"
   ]
  },
  {
   "cell_type": "code",
   "execution_count": 4,
   "id": "8876ee8b",
   "metadata": {},
   "outputs": [
    {
     "name": "stdout",
     "output_type": "stream",
     "text": [
      "[ReplayDTO(id='#JQRVGPVV', title='Replay 1', character_id=16000000, replay_description='Desc 1', embedding=<src.ai_insights.domain.embedding.Embedding object at 0x000001554DDC46E0>, video_path='path/1'), ReplayDTO(id='#JQRVGPVV', title='Replay 2', character_id=16000000, replay_description='Desc 2', embedding=<src.ai_insights.domain.embedding.Embedding object at 0x000001554B61EAD0>, video_path='path/2'), ReplayDTO(id='#JQRVGPVV', title='Replay 3', character_id=101, replay_description='Desc 3', embedding=<src.ai_insights.domain.embedding.Embedding object at 0x000001554B61E990>, video_path='path/3'), ReplayDTO(id='#JQRVGPVV', title='Replay 5', character_id=16000000, replay_description='Desc 5', embedding=<src.ai_insights.domain.embedding.Embedding object at 0x000001554B5BF820>, video_path='path/5')]\n"
     ]
    }
   ],
   "source": [
    "brawler_id = '16000000'\n",
    "country_code = 'global'\n",
    "#profile = brawlstars_get(f'/v1/players/{player_tag}')\n",
    "#battlelog = brawlstars_get(f'/v1/players/{player_tag}/battlelog')\n",
    "endpoint = f'/v1/rankings/{country_code}/brawlers/{brawler_id}'\n",
    "\n",
    "mock_replays_data = pd.DataFrame({\n",
    "    \"id\": [\"#JQRVGPVV\", \"#JQRVGPVV\", \"#JQRVGPVV\", \"otro\", \"#JQRVGPVV\"],\n",
    "    \"title\": [\"Replay 1\", \"Replay 2\", \"Replay 3\", \"Replay 4\", \"Replay 5\"],\n",
    "    \"character_id\": [16000000, 16000000, 101, 103, 16000000],\n",
    "    \"replay_description\": [\"Desc 1\", \"Desc 2\", \"Desc 3\", \"Desc 4\", \"Desc 5\"],\n",
    "    \"embedding\": [\n",
    "        Embedding(id=1, text_id=1, model_id=1, vector=[0.1, 0.2]),\n",
    "        Embedding(id=2, text_id=2, model_id=1, vector=[0.3, 0.4]),\n",
    "        Embedding(id=3, text_id=3, model_id=1, vector=[0.5, 0.6]),\n",
    "        Embedding(id=4, text_id=4, model_id=1, vector=[0.7, 0.8]),\n",
    "        Embedding(id=5, text_id=5, model_id=1, vector=[0.9, 1.0]),\n",
    "    ],\n",
    "    \"video_path\": [\"path/1\", \"path/2\", \"path/3\", \"path/4\", \"path/5\"],\n",
    "})\n",
    "\n",
    "\n",
    "\n",
    "replays_df_repo = ReplaysDfRepo(mock_replays_data)\n",
    "\n",
    "brawl_stars_client = BrawlStarsClient(API_KEY)\n",
    "\n",
    "request = {\n",
    "    \"endpoint\": endpoint,\n",
    "    \"filters\": [\"items\", \"tag\"],\n",
    "}\n",
    "\n",
    "replays_list = list_replays_by_recom.list_replays_by_recom(\n",
    "    request=request,\n",
    "    game_api_client=brawl_stars_client,\n",
    "    replays_repo=replays_df_repo,\n",
    ")\n",
    "\n",
    "\n",
    "print(replays_list)\n",
    "\n"
   ]
  },
  {
   "cell_type": "code",
   "execution_count": 5,
   "id": "2eebc355",
   "metadata": {},
   "outputs": [
    {
     "name": "stdout",
     "output_type": "stream",
     "text": [
      "ReplayDTO(id='#JQRVGPVV', title='Replay 1', character_id=16000000, replay_description='Desc 1', embedding=<src.ai_insights.domain.embedding.Embedding object at 0x000001554DDC46E0>, video_path='path/1')\n",
      "ReplayDTO(id='#JQRVGPVV', title='Replay 2', character_id=16000000, replay_description='Desc 2', embedding=<src.ai_insights.domain.embedding.Embedding object at 0x000001554B61EAD0>, video_path='path/2')\n",
      "ReplayDTO(id='#JQRVGPVV', title='Replay 3', character_id=101, replay_description='Desc 3', embedding=<src.ai_insights.domain.embedding.Embedding object at 0x000001554B61E990>, video_path='path/3')\n",
      "ReplayDTO(id='#JQRVGPVV', title='Replay 5', character_id=16000000, replay_description='Desc 5', embedding=<src.ai_insights.domain.embedding.Embedding object at 0x000001554B5BF820>, video_path='path/5')\n"
     ]
    }
   ],
   "source": [
    "for item in replays_list:\n",
    "    print(item)\n",
    "    #print(item[\"replay_description\"])\n",
    "    #print(item[\"embedding\"].vector)\n",
    "    #print(item[\"video_path\"])\n",
    "    #print(item[\"title\"])\n",
    "    #print(item[\"character_id\"])\n",
    "    #print(item[\"id\"])"
   ]
  },
  {
   "cell_type": "code",
   "execution_count": 6,
   "id": "b00a6bb2",
   "metadata": {},
   "outputs": [],
   "source": [
    "from src.ai_insights.infrastructure.adapters.llm.api_service import ApiService"
   ]
  },
  {
   "cell_type": "code",
   "execution_count": 7,
   "id": "bc4d41e2",
   "metadata": {},
   "outputs": [
    {
     "name": "stdout",
     "output_type": "stream",
     "text": [
      "c:\\Users\\cumpl\\TecLeo\\Semestre8\\Supercell\\Supercell_AI_Insights\\data\\raw\n",
      "Found community files: ['c:\\\\Users\\\\cumpl\\\\TecLeo\\\\Semestre8\\\\Supercell\\\\Supercell_AI_Insights\\\\data\\\\raw\\\\brawlers_build_brawl.json', 'c:\\\\Users\\\\cumpl\\\\TecLeo\\\\Semestre8\\\\Supercell\\\\Supercell_AI_Insights\\\\data\\\\raw\\\\brawlers_details_brawl.json', 'c:\\\\Users\\\\cumpl\\\\TecLeo\\\\Semestre8\\\\Supercell\\\\Supercell_AI_Insights\\\\data\\\\raw\\\\weekly_videos_brawl.json']\n",
      "Total community items loaded from '_brawl' files: 3\n",
      "\n",
      "Sending prompt to LLM (google)...\n",
      "\n",
      "Sending prompt to LLM (google)...\n",
      "\n",
      "Sending prompt to LLM (google)...\n"
     ]
    }
   ],
   "source": [
    "api = ApiService(game='brawl', user_id='%23JQRVGPVV')\n",
    "insights = api.get_ai_insights()"
   ]
  },
  {
   "cell_type": "code",
   "execution_count": 8,
   "id": "2a793515",
   "metadata": {},
   "outputs": [
    {
     "name": "stdout",
     "output_type": "stream",
     "text": [
      "```json\n",
      "{\n",
      "  \"player description\": {\n",
      "    \"title\": \"The Gear Master: A Brawl Stars Legend\",\n",
      "    \"narrative\": \"Snow is a seasoned Brawl Stars veteran, boasting over 72,000 trophies and an impressive 30,000+ 3v3 victories. This player has meticulously maxed out almost every brawler, equipping them with Level 3 gears and demonstrating a commitment to optimizing their performance across the roster. Snow seems to enjoy pushing brawlers to the 1000-2000 trophy range and appears to be a dedicated member of the club 'GET RANK‼️CLICK'\",\n",
      "    \"detailed_analysis\": {\n",
      "      \"overall_impression\": \"Snow is a highly experienced and dedicated Brawl Stars player with a deep understanding of the game's mechanics, as evidenced by their high trophy count, extensive 3v3 victories, and the maxed-out status of nearly all their brawlers. They are actively engaged in club activities and demonstrate a broad mastery of the game's roster, even for newly released brawlers.\",\n",
      "      \"trophy_progression\": \"Snow's trophy count indicates a strong ability to consistently win matches and climb the ranks. While their highest trophies are only slightly above their current trophies, this suggests that they may be actively pushing brawlers or maintaining a consistent level of play rather than focusing solely on maximizing their peak trophy count.\",\n",
      "      \"club_engagement\": \"Being part of the 'GET RANK‼️CLICK' club likely provides Snow with a network of teammates for coordinated gameplay, as well as access to tips and strategies from other experienced players. The club's name suggests a focus on competitive play and trophy pushing, aligning with Snow's overall profile.\",\n",
      "      \"brawler_mastery\": \"The data reveals that Snow has almost every brawler unlocked and at power level 11 with multiple level 3 gears. They experiment with all kinds of brawlers, but might not always be pushing every one of them to insane trophy levels.\",\n",
      "      \"gear_optimization\": \"Snow's extensive use of Level 3 gears on almost all brawlers highlights their understanding of the importance of gear customization in maximizing brawler performance. This suggests a dedication to fine-tuning each brawler's stats to suit their playstyle and the specific game modes they prefer.\",\n",
      "      \"areas_for_potential_improvement\": \"While Snow demonstrates exceptional overall mastery, there are some areas for potential improvement: \\n*   **Strategic Focus**: Consider focusing trophy-pushing efforts on a smaller subset of brawlers to achieve even higher individual brawler rankings. \\n*   **New Brawler Investment**: Snow seems to level up every new brawler. By focusing on mastering one brawler at a time they might climb the leaderboards more quickly and be more competitive with the newest and most powerful brawlers in the game.\",\n",
      "       \"specific_brawler_recommendations\": {\n",
      "          \"Angelo\": \"Angelo is Snow's lowest trophy brawler. With full gears and Star Power 'EMPOWER' Angelo is lethal at mid range, able to burst a brawler down fast. Snow should use this to their advantage and snipe the opponent. Angelo also counters tanks as he can easily deal high damage to them. Avoid close range combat and aim for mid-range opponents.\",\n",
      "          \"Kenji\": \"Kenji is another low-trophy brawler for Snow. His Star Power, 'STUDIED THE BLADE', provides +25% increased speed while charging his super. With this fast super charge and the ability to dash to any enemy or ally, Snow can catch his opponents off guard.\",\n",
      "          \"Chuck\": \"Chuck is another low-trophy brawler, currently at 407 trophies. His gears are nearly maxed out. To improve, Snow should place Chuck's posts defensively and be sure to bait out opponents.\"\n",
      "       }\n",
      "    }\n",
      "  }\n",
      "}\n",
      "``` \n",
      "\n",
      "\n",
      "\n",
      "\n",
      "```json\n",
      "{\n",
      "  \"performance_summary\": {\n",
      "    \"recent_performance_overview\": \"Snow has been actively participating in various game modes, including Brawl Ball, Knockout, Bounty, and Heist. Based on the provided battle log, Snow has a mixed performance, with both victories and defeats across these modes. They frequently play with teammates Lewa and Chesi.\",\n",
      "    \"win_rate_analysis\": \"From the last 20 battles, Snow has achieved 11 victories and 9 defeats, resulting in a win rate of 55%. This suggests a slightly above-average performance but indicates room for improvement.\",\n",
      "    \"mode_specific_performance\": {\n",
      "      \"brawl_ball\": \"Snow participated in Brawl Ball frequently, with mixed results on 'Center Stage,' 'Sneaky Fields,' and 'Pinball Dreams'. The team compositions varied, and the outcomes were inconsistent, suggesting map or team composition dependency.\",\n",
      "      \"knockout\": \"In Knockout on 'Out in the Open,' Snow experienced some success but also faced defeats. The consistency here also seems variable.\",\n",
      "      \"bounty\": \"In Bounty on 'Dry Season' and 'Layer Cake,' Snow had a good run, securing multiple victories. This mode seems to be a strong point in the recent battles.\",\n",
      "      \"heist\": \"Heist matches on 'Kaboom Canyon' initially resulted in wins, but later matches on 'Hot Potato' ended in defeats. This suggests map-specific strengths and weaknesses or potential counter-picks by the opposing teams.\",\n",
      "      \"brawler_diversity\": \"Snow played a diverse set of brawlers, including Spike, Carl, Eve, Stu, Byron, Angelo, Janet, and Kenji. This aligns with the player description indicating a broad mastery of the roster.\",\n",
      "      \"team_synergy\": \"Snow frequently teams up with Lewa and Chesi. Their coordinated gameplay is evident, but the battle logs also indicate that the team's success varies, suggesting that synergy alone isn't always enough and strategic adjustments may be needed.\"\n",
      "    },\n",
      "    \"key_observations\": [\n",
      "      \"Snow demonstrates adaptability by playing various brawlers and game modes.\",\n",
      "      \"The win rate is slightly above average, suggesting a good understanding of the game but potential for strategic refinements.\",\n",
      "      \"Team composition and map selection appear to significantly impact the outcomes of battles.\",\n",
      "      \"Snow occasionally plays new brawlers such as Kenji and Angelo, but might need more time to master these brawlers.\"\n",
      "    ],\n",
      "    \"recommendations_based_on_battlelog\": [\n",
      "      \"**Focus on Map-Specific Brawler Selection**: Analyze which brawlers perform best on each map and adjust the team composition accordingly.\",\n",
      "      \"**Refine Team Strategies**: Coordinate with Lewa and Chesi to develop specific strategies for different game modes and team compositions. Consider practicing specific roles within the team to maximize effectiveness.\",\n",
      "      \"**Brawler Mastery**: Given that Snow is trying to master every new brawler, it might be worth focusing on only a few. This allows the player to increase his winrate in a more reasonable amount of time.\",\n",
      "      \"**Adapt to Opponent Compositions**: Pay attention to the opposing team's brawler choices and adjust the strategy and brawler selection to counter them effectively.\",\n",
      "      \"**Review Defeats**: Analyze the reasons for defeats to identify patterns and areas for improvement. This could involve reviewing replays or discussing strategies with teammates.\"\n",
      "    ],\n",
      "    \"specific_brawler_recommendations\": {\n",
      "      \"Angelo\": \"Angelo is Snow's lowest trophy brawler. With full gears and Star Power 'EMPOWER' Angelo is lethal at mid range, able to burst a brawler down fast. Snow should use this to their advantage and snipe the opponent. Angelo also counters tanks as he can easily deal high damage to them. Avoid close range combat and aim for mid-range opponents.\",\n",
      "      \"Kenji\": \"Kenji is another low-trophy brawler for Snow. His Star Power, 'STUDIED THE BLADE', provides +25% increased speed while charging his super. With this fast super charge and the ability to dash to any enemy or ally, Snow can catch his opponents off guard.\",\n",
      "      \"Chuck\": \"Chuck is another low-trophy brawler, currently at 407 trophies. His gears are nearly maxed out. To improve, Snow should place Chuck's posts defensively and be sure to bait out opponents.\"\n",
      "    }\n",
      "  },\n",
      "  \"player_description\": {\n",
      "    \"title\": \"The Gear Master: A Brawl Stars Legend\",\n",
      "    \"narrative\": \"Snow is a seasoned Brawl Stars veteran, boasting over 72,000 trophies and an impressive 30,000+ 3v3 victories. This player has meticulously maxed out almost every brawler, equipping them with Level 3 gears and demonstrating a commitment to optimizing their performance across the roster. Snow seems to enjoy pushing brawlers to the 1000-2000 trophy range and appears to be a dedicated member of the club 'GET RANK‼️CLICK'\",\n",
      "    \"detailed_analysis\": {\n",
      "      \"overall_impression\": \"Snow is a highly experienced and dedicated Brawl Stars player with a deep understanding of the game's mechanics, as evidenced by their high trophy count, extensive 3v3 victories, and the maxed-out status of nearly all their brawlers. They are actively engaged in club activities and demonstrate a broad mastery of the game's roster, even for newly released brawlers.\",\n",
      "      \"trophy_progression\": \"Snow's trophy count indicates a strong ability to consistently win matches and climb the ranks. While their highest trophies are only slightly above their current trophies, this suggests that they may be actively pushing brawlers or maintaining a consistent level of play rather than focusing solely on maximizing their peak trophy count.\",\n",
      "      \"club_engagement\": \"Being part of the 'GET RANK‼️CLICK' club likely provides Snow with a network of teammates for coordinated gameplay, as well as access to tips and strategies from other experienced players. The club's name suggests a focus on competitive play and trophy pushing, aligning with Snow's overall profile.\",\n",
      "      \"brawler_mastery\": \"The data reveals that Snow has almost every brawler unlocked and at power level 11 with multiple level 3 gears. They experiment with all kinds of brawlers, but might not always be pushing every one of them to insane trophy levels.\",\n",
      "      \"gear_optimization\": \"Snow's extensive use of Level 3 gears on almost all brawlers highlights their understanding of the importance of gear customization in maximizing brawler performance. This suggests a dedication to fine-tuning each brawler's stats to suit their playstyle and the specific game modes they prefer.\",\n",
      "      \"areas_for_potential_improvement\": \"While Snow demonstrates exceptional overall mastery, there are some areas for potential improvement: \\n*   **Strategic Focus**: Consider focusing trophy-pushing efforts on a smaller subset of brawlers to achieve even higher individual brawler rankings. \\n*   **New Brawler Investment**: Snow seems to level up every new brawler. By focusing on mastering one brawler at a time they might climb the leaderboards more quickly and be more competitive with the newest and most powerful brawlers in the game.\"\n",
      "    }\n",
      "  }\n",
      "}\n",
      "``` \n",
      "\n",
      "\n",
      "\n",
      "\n",
      "```json\n",
      "{\n",
      "  \"recommendations\": [\n",
      "    {\n",
      "      \"brawler_name\": \"Angelo\",\n",
      "      \"reasoning\": \"Snow's Angelo has low trophies but is maxed out. Recent balance changes might have shifted the meta slightly in Angelo's favour due to his ability to counter tanks, but Snow needs to improve their understanding of Angelo's optimal playstyle. Angelo's 'EMPOWER' Star Power allows for sustain during his super, while the Master Fletcher Gadget provides long-range burst. With a high win rate in Bounty, this game mode will suit Angelo best.\",\n",
      "      \"suggested_game_modes\": [\n",
      "        \"Bounty\",\n",
      "        \"Knockout\",\n",
      "        \"Wipeout\"\n",
      "      ],\n",
      "      \"concise_tip\": \"Prioritize mid-range sniping and utilize 'EMPOWER' Star Power for sustain.\",\n",
      "      \"confidence_score\": 0.85\n",
      "    },\n",
      "    {\n",
      "      \"brawler_name\": \"Kenji\",\n",
      "      \"reasoning\": \"Like Angelo, Kenji's trophy count is low for Snow, but he has all gears and the 'STUDIED THE BLADE' Star Power. This build increases speed while charging his super and can dash to any enemy or ally to catch his opponents off guard. Kenji also relies on teammates, providing more potential for coordinated plays. Based on the performance summary, team synergy plays a significant role in Snow's success. Playing Kenji with teammates may increase the win rate.\",\n",
      "      \"suggested_game_modes\": [\n",
      "        \"Gem Grab\",\n",
      "        \"Brawl Ball\",\n",
      "        \"Knockout\"\n",
      "      ],\n",
      "      \"concise_tip\": \"Exploit Kenji's mobility for surprise attacks and objective control\",\n",
      "      \"confidence_score\": 0.75\n",
      "    },\n",
      "    {\n",
      "      \"brawler_name\": \"Chuck\",\n",
      "      \"reasoning\": \"Chuck is another lower-trophy brawler for Snow with nearly maxed-out gears. Recent community data suggests he should place his posts defensively. Snow should focus on mastering Chuck's post placement to control the map. Chuck is best suited for Siege where he can place posts defensively around the IKE to protect it.\",\n",
      "      \"suggested_game_modes\": [\n",
      "        \"Siege\",\n",
      "        \"Hot Zone\",\n",
      "        \"Gem Grab\"\n",
      "      ],\n",
      "      \"concise_tip\": \"Place posts defensively and bait out opponents\",\n",
      "      \"confidence_score\": 0.70\n",
      "    }\n",
      "  ]\n",
      "}\n",
      "``` \n",
      "\n",
      "\n",
      "\n",
      "\n"
     ]
    }
   ],
   "source": [
    "print(insights['player_description'], '\\n\\n\\n\\n')\n",
    "print(insights['performance_summary'], '\\n\\n\\n\\n')\n",
    "print(insights['recommendations'], '\\n\\n\\n\\n')"
   ]
  },
  {
   "cell_type": "code",
   "execution_count": 9,
   "id": "e20d217e",
   "metadata": {},
   "outputs": [
    {
     "data": {
      "text/plain": [
       "dict_keys(['player_description', 'performance_summary', 'recommendations'])"
      ]
     },
     "execution_count": 9,
     "metadata": {},
     "output_type": "execute_result"
    }
   ],
   "source": [
    "insights.keys()"
   ]
  },
  {
   "cell_type": "code",
   "execution_count": 10,
   "id": "d6e32e00",
   "metadata": {},
   "outputs": [],
   "source": [
    "import json"
   ]
  },
  {
   "cell_type": "code",
   "execution_count": 11,
   "id": "61e7bd5d",
   "metadata": {},
   "outputs": [
    {
     "name": "stdout",
     "output_type": "stream",
     "text": [
      "{'recommendations': [{'brawler_name': 'Angelo', 'reasoning': \"Snow's Angelo has low trophies but is maxed out. Recent balance changes might have shifted the meta slightly in Angelo's favour due to his ability to counter tanks, but Snow needs to improve their understanding of Angelo's optimal playstyle. Angelo's 'EMPOWER' Star Power allows for sustain during his super, while the Master Fletcher Gadget provides long-range burst. With a high win rate in Bounty, this game mode will suit Angelo best.\", 'suggested_game_modes': ['Bounty', 'Knockout', 'Wipeout'], 'concise_tip': \"Prioritize mid-range sniping and utilize 'EMPOWER' Star Power for sustain.\", 'confidence_score': 0.85}, {'brawler_name': 'Kenji', 'reasoning': \"Like Angelo, Kenji's trophy count is low for Snow, but he has all gears and the 'STUDIED THE BLADE' Star Power. This build increases speed while charging his super and can dash to any enemy or ally to catch his opponents off guard. Kenji also relies on teammates, providing more potential for coordinated plays. Based on the performance summary, team synergy plays a significant role in Snow's success. Playing Kenji with teammates may increase the win rate.\", 'suggested_game_modes': ['Gem Grab', 'Brawl Ball', 'Knockout'], 'concise_tip': \"Exploit Kenji's mobility for surprise attacks and objective control\", 'confidence_score': 0.75}, {'brawler_name': 'Chuck', 'reasoning': \"Chuck is another lower-trophy brawler for Snow with nearly maxed-out gears. Recent community data suggests he should place his posts defensively. Snow should focus on mastering Chuck's post placement to control the map. Chuck is best suited for Siege where he can place posts defensively around the IKE to protect it.\", 'suggested_game_modes': ['Siege', 'Hot Zone', 'Gem Grab'], 'concise_tip': 'Place posts defensively and bait out opponents', 'confidence_score': 0.7}]}\n",
      "<class 'dict'>\n"
     ]
    }
   ],
   "source": [
    "# Remove markdown code fences if present\n",
    "recommendations = insights['recommendations']\n",
    "if recommendations.startswith(\"```json\"):\n",
    "    recommendations = recommendations[7:]  # Remove ```json\\n\n",
    "if recommendations.endswith(\"```\"):\n",
    "    recommendations = recommendations[:-3]  # Remove ```\n",
    "\n",
    "recommendations_dict = json.loads(recommendations)\n",
    "print(recommendations_dict)\n",
    "print(type(recommendations_dict))"
   ]
  },
  {
   "cell_type": "code",
   "execution_count": 12,
   "id": "d366f889",
   "metadata": {},
   "outputs": [
    {
     "name": "stdout",
     "output_type": "stream",
     "text": [
      "dict_keys(['recommendations'])\n"
     ]
    }
   ],
   "source": [
    "print(recommendations_dict.keys())"
   ]
  },
  {
   "cell_type": "code",
   "execution_count": 13,
   "id": "d7a25f89",
   "metadata": {},
   "outputs": [
    {
     "data": {
      "text/plain": [
       "[{'brawler_name': 'Angelo',\n",
       "  'reasoning': \"Snow's Angelo has low trophies but is maxed out. Recent balance changes might have shifted the meta slightly in Angelo's favour due to his ability to counter tanks, but Snow needs to improve their understanding of Angelo's optimal playstyle. Angelo's 'EMPOWER' Star Power allows for sustain during his super, while the Master Fletcher Gadget provides long-range burst. With a high win rate in Bounty, this game mode will suit Angelo best.\",\n",
       "  'suggested_game_modes': ['Bounty', 'Knockout', 'Wipeout'],\n",
       "  'concise_tip': \"Prioritize mid-range sniping and utilize 'EMPOWER' Star Power for sustain.\",\n",
       "  'confidence_score': 0.85},\n",
       " {'brawler_name': 'Kenji',\n",
       "  'reasoning': \"Like Angelo, Kenji's trophy count is low for Snow, but he has all gears and the 'STUDIED THE BLADE' Star Power. This build increases speed while charging his super and can dash to any enemy or ally to catch his opponents off guard. Kenji also relies on teammates, providing more potential for coordinated plays. Based on the performance summary, team synergy plays a significant role in Snow's success. Playing Kenji with teammates may increase the win rate.\",\n",
       "  'suggested_game_modes': ['Gem Grab', 'Brawl Ball', 'Knockout'],\n",
       "  'concise_tip': \"Exploit Kenji's mobility for surprise attacks and objective control\",\n",
       "  'confidence_score': 0.75},\n",
       " {'brawler_name': 'Chuck',\n",
       "  'reasoning': \"Chuck is another lower-trophy brawler for Snow with nearly maxed-out gears. Recent community data suggests he should place his posts defensively. Snow should focus on mastering Chuck's post placement to control the map. Chuck is best suited for Siege where he can place posts defensively around the IKE to protect it.\",\n",
       "  'suggested_game_modes': ['Siege', 'Hot Zone', 'Gem Grab'],\n",
       "  'concise_tip': 'Place posts defensively and bait out opponents',\n",
       "  'confidence_score': 0.7}]"
      ]
     },
     "execution_count": 13,
     "metadata": {},
     "output_type": "execute_result"
    }
   ],
   "source": [
    "recommendations_dict['recommendations']"
   ]
  },
  {
   "cell_type": "code",
   "execution_count": null,
   "id": "7d52f191",
   "metadata": {},
   "outputs": [],
   "source": [
    "#with open('data/raw/brawlers.json', 'r') as f:\n",
    "#        loaded_data = json.load(f)"
   ]
  },
  {
   "cell_type": "code",
   "execution_count": null,
   "id": "9a3f7bb3",
   "metadata": {},
   "outputs": [],
   "source": [
    "\"\"\"\n",
    "brawler_to_id = {\n",
    "    brawler['name'] : brawler['id'] for brawler in loaded_data['items']\n",
    "}\n",
    "\n",
    "# save to json\n",
    "with open('data/processed/brawlers_to_ids.json', 'w') as f:\n",
    "    json.dump(brawler_to_id, f, indent=4)\n",
    "\"\"\""
   ]
  },
  {
   "cell_type": "code",
   "execution_count": 14,
   "id": "beb71d23",
   "metadata": {},
   "outputs": [
    {
     "name": "stdout",
     "output_type": "stream",
     "text": [
      "{'SHELLY': 16000000, 'COLT': 16000001, 'BULL': 16000002, 'BROCK': 16000003, 'RICO': 16000004, 'SPIKE': 16000005, 'BARLEY': 16000006, 'JESSIE': 16000007, 'NITA': 16000008, 'DYNAMIKE': 16000009, 'EL PRIMO': 16000010, 'MORTIS': 16000011, 'CROW': 16000012, 'POCO': 16000013, 'BO': 16000014, 'PIPER': 16000015, 'PAM': 16000016, 'TARA': 16000017, 'DARRYL': 16000018, 'PENNY': 16000019, 'FRANK': 16000020, 'GENE': 16000021, 'TICK': 16000022, 'LEON': 16000023, 'ROSA': 16000024, 'CARL': 16000025, 'BIBI': 16000026, '8-BIT': 16000027, 'SANDY': 16000028, 'BEA': 16000029, 'EMZ': 16000030, 'MR. P': 16000031, 'MAX': 16000032, 'JACKY': 16000034, 'GALE': 16000035, 'NANI': 16000036, 'SPROUT': 16000037, 'SURGE': 16000038, 'COLETTE': 16000039, 'AMBER': 16000040, 'LOU': 16000041, 'BYRON': 16000042, 'EDGAR': 16000043, 'RUFFS': 16000044, 'STU': 16000045, 'BELLE': 16000046, 'SQUEAK': 16000047, 'GROM': 16000048, 'BUZZ': 16000049, 'GRIFF': 16000050, 'ASH': 16000051, 'MEG': 16000052, 'LOLA': 16000053, 'FANG': 16000054, 'EVE': 16000056, 'JANET': 16000057, 'BONNIE': 16000058, 'OTIS': 16000059, 'SAM': 16000060, 'GUS': 16000061, 'BUSTER': 16000062, 'CHESTER': 16000063, 'GRAY': 16000064, 'MANDY': 16000065, 'R-T': 16000066, 'WILLOW': 16000067, 'MAISIE': 16000068, 'HANK': 16000069, 'CORDELIUS': 16000070, 'DOUG': 16000071, 'PEARL': 16000072, 'CHUCK': 16000073, 'CHARLIE': 16000074, 'MICO': 16000075, 'KIT': 16000076, 'LARRY & LAWRIE': 16000077, 'MELODIE': 16000078, 'ANGELO': 16000079, 'DRACO': 16000080, 'LILY': 16000081, 'BERRY': 16000082, 'CLANCY': 16000083, 'MOE': 16000084, 'KENJI': 16000085, 'SHADE': 16000086, 'JUJU': 16000087, 'MEEPLE': 16000089, 'OLLIE': 16000090, 'LUMI': 16000091, 'FINX': 16000092, 'JAE-YONG': 16000093, 'KAZE': 16000094} <class 'dict'>\n"
     ]
    }
   ],
   "source": [
    "with open('data/processed/brawlers_to_ids.json', 'r') as f:\n",
    "    brawler_to_id = json.load(f)\n",
    "print(brawler_to_id, type(brawler_to_id))"
   ]
  },
  {
   "cell_type": "code",
   "execution_count": 15,
   "id": "1f3d66a3",
   "metadata": {},
   "outputs": [],
   "source": [
    "recommendations = recommendations_dict['recommendations']"
   ]
  },
  {
   "cell_type": "code",
   "execution_count": 16,
   "id": "d3a6533c",
   "metadata": {},
   "outputs": [
    {
     "data": {
      "text/plain": [
       "[{'brawler_name': 'Angelo',\n",
       "  'reasoning': \"Snow's Angelo has low trophies but is maxed out. Recent balance changes might have shifted the meta slightly in Angelo's favour due to his ability to counter tanks, but Snow needs to improve their understanding of Angelo's optimal playstyle. Angelo's 'EMPOWER' Star Power allows for sustain during his super, while the Master Fletcher Gadget provides long-range burst. With a high win rate in Bounty, this game mode will suit Angelo best.\",\n",
       "  'suggested_game_modes': ['Bounty', 'Knockout', 'Wipeout'],\n",
       "  'concise_tip': \"Prioritize mid-range sniping and utilize 'EMPOWER' Star Power for sustain.\",\n",
       "  'confidence_score': 0.85},\n",
       " {'brawler_name': 'Kenji',\n",
       "  'reasoning': \"Like Angelo, Kenji's trophy count is low for Snow, but he has all gears and the 'STUDIED THE BLADE' Star Power. This build increases speed while charging his super and can dash to any enemy or ally to catch his opponents off guard. Kenji also relies on teammates, providing more potential for coordinated plays. Based on the performance summary, team synergy plays a significant role in Snow's success. Playing Kenji with teammates may increase the win rate.\",\n",
       "  'suggested_game_modes': ['Gem Grab', 'Brawl Ball', 'Knockout'],\n",
       "  'concise_tip': \"Exploit Kenji's mobility for surprise attacks and objective control\",\n",
       "  'confidence_score': 0.75},\n",
       " {'brawler_name': 'Chuck',\n",
       "  'reasoning': \"Chuck is another lower-trophy brawler for Snow with nearly maxed-out gears. Recent community data suggests he should place his posts defensively. Snow should focus on mastering Chuck's post placement to control the map. Chuck is best suited for Siege where he can place posts defensively around the IKE to protect it.\",\n",
       "  'suggested_game_modes': ['Siege', 'Hot Zone', 'Gem Grab'],\n",
       "  'concise_tip': 'Place posts defensively and bait out opponents',\n",
       "  'confidence_score': 0.7}]"
      ]
     },
     "execution_count": 16,
     "metadata": {},
     "output_type": "execute_result"
    }
   ],
   "source": [
    "recommendations"
   ]
  },
  {
   "cell_type": "code",
   "execution_count": 17,
   "id": "d62cc019",
   "metadata": {},
   "outputs": [
    {
     "name": "stdout",
     "output_type": "stream",
     "text": [
      "ANGELO\n",
      "KENJI\n",
      "CHUCK\n"
     ]
    }
   ],
   "source": [
    "\n",
    "for ix, recommendation in enumerate(recommendations):\n",
    "    brawler_name = recommendation['brawler_name'].upper()\n",
    "    print(brawler_name)\n",
    "    brawler_id = brawler_to_id.get(brawler_name)\n",
    "    recommendations[ix][\"brawler_id\"] = brawler_id\n",
    "    "
   ]
  },
  {
   "cell_type": "code",
   "execution_count": null,
   "id": "da36cfdc",
   "metadata": {},
   "outputs": [
    {
     "data": {
      "text/plain": [
       "[{'brawler_name': 'Angelo',\n",
       "  'reasoning': \"Snow's Angelo has low trophies but is maxed out. Recent balance changes might have shifted the meta slightly in Angelo's favour due to his ability to counter tanks, but Snow needs to improve their understanding of Angelo's optimal playstyle. Angelo's 'EMPOWER' Star Power allows for sustain during his super, while the Master Fletcher Gadget provides long-range burst. With a high win rate in Bounty, this game mode will suit Angelo best.\",\n",
       "  'suggested_game_modes': ['Bounty', 'Knockout', 'Wipeout'],\n",
       "  'concise_tip': \"Prioritize mid-range sniping and utilize 'EMPOWER' Star Power for sustain.\",\n",
       "  'confidence_score': 0.85,\n",
       "  'brawler_id': 16000079},\n",
       " {'brawler_name': 'Kenji',\n",
       "  'reasoning': \"Like Angelo, Kenji's trophy count is low for Snow, but he has all gears and the 'STUDIED THE BLADE' Star Power. This build increases speed while charging his super and can dash to any enemy or ally to catch his opponents off guard. Kenji also relies on teammates, providing more potential for coordinated plays. Based on the performance summary, team synergy plays a significant role in Snow's success. Playing Kenji with teammates may increase the win rate.\",\n",
       "  'suggested_game_modes': ['Gem Grab', 'Brawl Ball', 'Knockout'],\n",
       "  'concise_tip': \"Exploit Kenji's mobility for surprise attacks and objective control\",\n",
       "  'confidence_score': 0.75,\n",
       "  'brawler_id': 16000085},\n",
       " {'brawler_name': 'Chuck',\n",
       "  'reasoning': \"Chuck is another lower-trophy brawler for Snow with nearly maxed-out gears. Recent community data suggests he should place his posts defensively. Snow should focus on mastering Chuck's post placement to control the map. Chuck is best suited for Siege where he can place posts defensively around the IKE to protect it.\",\n",
       "  'suggested_game_modes': ['Siege', 'Hot Zone', 'Gem Grab'],\n",
       "  'concise_tip': 'Place posts defensively and bait out opponents',\n",
       "  'confidence_score': 0.7,\n",
       "  'brawler_id': 16000073}]"
      ]
     },
     "execution_count": 18,
     "metadata": {},
     "output_type": "execute_result"
    }
   ],
   "source": [
    "\n",
    "recommendations"
   ]
  },
  {
   "cell_type": "code",
   "execution_count": null,
   "id": "8cbb1d4c",
   "metadata": {},
   "outputs": [],
   "source": [
    "from src.ai_insights.infrastructure.adapters.llm.ssem_embedder import SSEMEmbedder\n"
   ]
  },
  {
   "cell_type": "code",
   "execution_count": 35,
   "id": "75196299",
   "metadata": {},
   "outputs": [],
   "source": [
    "descriptions = [\n",
    "    \"Leon, utilizing his invisibility and swift attacks, expertly eliminated an unsuspecting enemy Brawler.  A perfectly timed Super secured the knockout, showcasing Leon's lethal stealth capabilities in a crucial moment.\",\n",
    "    \"The character Hank is shown playing Brawl Stars, a mobile multiplayer battle arena game. The clip shows Hank\\'s interactions with other brawlers, including his use of a Barricade Gadget\",\n",
    "    \"Some description about the replay\",\n",
    "    \"Another description about the replay\",\n",
    "    \"The video shows a competitive match of Brawl Stars, with players using various strategies such as positioning, dodging attacks, and utilizing their abilities to deal damage to opponents. The clip highlights the intense gameplay and teamwork required to succeed in this mobile battle arena game.\",\n",
    "]\n",
    "\n",
    "embedder = SSEMEmbedder()\n",
    "video_descriptions_embeddings = embedder.generate_embeddings(descriptions)\n",
    "mock_replays_data = pd.DataFrame({\n",
    "    \"id\": [\"#9RRRJYG89\", \"#8R29PY9RJ\", \"#JQRVGPVV\", \"otro\", \"#YG2C0YPJY\"],\n",
    "    \"title\": [\"Replay 1\", \"Replay 2\", \"Replay 3\", \"Replay 4\", \"Replay 5\"],\n",
    "    \"character_id\": [16000079, 16000085, 101, 103, 16000073],\n",
    "    \"replay_description\": descriptions,\n",
    "    \"embedding\": [0 for i in range(5)],\n",
    "    \"video_path\": [\"path/1\", \"path/2\", \"path/3\", \"path/4\", \"path/5\"],\n",
    "})"
   ]
  },
  {
   "cell_type": "code",
   "execution_count": 36,
   "id": "3828a17e",
   "metadata": {},
   "outputs": [
    {
     "name": "stderr",
     "output_type": "stream",
     "text": [
      "C:\\Users\\cumpl\\AppData\\Local\\Temp\\ipykernel_5884\\3197852048.py:4: FutureWarning: Setting an item of incompatible dtype is deprecated and will raise an error in a future version of pandas. Value '<src.ai_insights.domain.embedding.Embedding object at 0x000001550827AD50>' has dtype incompatible with int64, please explicitly cast to a compatible dtype first.\n",
      "  mock_replays_data.at[ix, 'embedding'] = embedding\n"
     ]
    }
   ],
   "source": [
    "for ix, row in mock_replays_data.iterrows():\n",
    "    embedding = video_descriptions_embeddings[ix]\n",
    "    embedding = Embedding(id=ix, text_id=ix, model_id=1, vector=embedding)\n",
    "    mock_replays_data.at[ix, 'embedding'] = embedding"
   ]
  },
  {
   "cell_type": "code",
   "execution_count": 60,
   "id": "fb2e0620",
   "metadata": {},
   "outputs": [
    {
     "name": "stdout",
     "output_type": "stream",
     "text": [
      "[ReplayDTO(id='#9RRRJYG89', title='Replay 1', character_id=16000079, replay_description=\"Leon, utilizing his invisibility and swift attacks, expertly eliminated an unsuspecting enemy Brawler.  A perfectly timed Super secured the knockout, showcasing Leon's lethal stealth capabilities in a crucial moment.\", embedding=<src.ai_insights.domain.embedding.Embedding object at 0x000001550827AD50>, video_path='path/1'), ReplayDTO(id='#8R29PY9RJ', title='Replay 2', character_id=16000085, replay_description=\"The character Hank is shown playing Brawl Stars, a mobile multiplayer battle arena game. The clip shows Hank's interactions with other brawlers, including his use of a Barricade Gadget\", embedding=<src.ai_insights.domain.embedding.Embedding object at 0x0000015508279E50>, video_path='path/2'), ReplayDTO(id='#YG2C0YPJY', title='Replay 5', character_id=16000073, replay_description='The video shows a competitive match of Brawl Stars, with players using various strategies such as positioning, dodging attacks, and utilizing their abilities to deal damage to opponents. The clip highlights the intense gameplay and teamwork required to succeed in this mobile battle arena game.', embedding=<src.ai_insights.domain.embedding.Embedding object at 0x0000015500FC1130>, video_path='path/5')]\n"
     ]
    }
   ],
   "source": [
    "replays_df_repo = ReplaysDfRepo(mock_replays_data)\n",
    "brawl_stars_client = BrawlStarsClient(API_KEY)\n",
    "\n",
    "country_code = 'global'\n",
    "\n",
    "recovered_replays = []\n",
    "for recommendation in recommendations:\n",
    "    brawler_id = recommendation['brawler_id']\n",
    "    endpoint = f'/v1/rankings/{country_code}/brawlers/{brawler_id}'\n",
    "\n",
    "    request = {\n",
    "        \"endpoint\": endpoint,\n",
    "        \"filters\": [\"items\", \"tag\"],\n",
    "    }\n",
    "\n",
    "    replays_list = list_replays_by_recom.list_replays_by_recom(\n",
    "        request=request,\n",
    "        game_api_client=brawl_stars_client,\n",
    "        replays_repo=replays_df_repo,\n",
    "    )\n",
    "\n",
    "\n",
    "    recovered_replays.extend(replays_list)\n",
    "print(recovered_replays)"
   ]
  },
  {
   "cell_type": "code",
   "execution_count": 38,
   "id": "67b4d2dd",
   "metadata": {},
   "outputs": [],
   "source": [
    "from src.ai_insights.application.dtos.insight_dtos import (\n",
    "    RecommendedCharacterDTO\n",
    ")"
   ]
  },
  {
   "cell_type": "code",
   "execution_count": null,
   "id": "d752a679",
   "metadata": {},
   "outputs": [],
   "source": [
    "\"\"\"\n",
    "    character_id: str\n",
    "    character_name: str\n",
    "    reasoning: str\n",
    "    embedding: Embedding\n",
    "    confidence_score: Optional[float] = None\n",
    "\"\"\""
   ]
  },
  {
   "cell_type": "code",
   "execution_count": 39,
   "id": "58662eb1",
   "metadata": {},
   "outputs": [
    {
     "data": {
      "text/plain": [
       "dict_keys(['brawler_name', 'reasoning', 'suggested_game_modes', 'concise_tip', 'confidence_score', 'brawler_id', 'concise_tip_embedding'])"
      ]
     },
     "execution_count": 39,
     "metadata": {},
     "output_type": "execute_result"
    }
   ],
   "source": [
    "recommendations[0].keys()"
   ]
  },
  {
   "cell_type": "code",
   "execution_count": null,
   "id": "f31d941b",
   "metadata": {},
   "outputs": [],
   "source": [
    "concise_tips_list = [recommendation['concise_tip'] for recommendation in recommendations]\n",
    "tips_embeddings = embedder.generate_embeddings(concise_tips_list)\n",
    "for ix in range(len(recommendations)):\n",
    "    recommendations[ix]['concise_tip_embedding'] = tips_embeddings[ix]"
   ]
  },
  {
   "cell_type": "code",
   "execution_count": 45,
   "id": "9af8dc73",
   "metadata": {},
   "outputs": [],
   "source": [
    "recommendations_objects = [\n",
    "    RecommendedCharacterDTO(\n",
    "        character_id=recommendation['brawler_id'],\n",
    "        character_name=recommendation['brawler_name'],\n",
    "        reasoning=recommendation['concise_tip'],\n",
    "        embedding=Embedding(\n",
    "            id=0,\n",
    "            text_id=0,\n",
    "            model_id=1,\n",
    "            vector=recommendation['concise_tip_embedding'])\n",
    "    )\n",
    "    for recommendation in recommendations\n",
    "]"
   ]
  },
  {
   "cell_type": "code",
   "execution_count": null,
   "id": "b9be7169",
   "metadata": {},
   "outputs": [
    {
     "data": {
      "text/plain": [
       "[RecommendedCharacterDTO(character_id=16000079, character_name='Angelo', reasoning=\"Prioritize mid-range sniping and utilize 'EMPOWER' Star Power for sustain.\", embedding=<src.ai_insights.domain.embedding.Embedding object at 0x00000155083CBF50>, confidence_score=None),\n",
       " RecommendedCharacterDTO(character_id=16000085, character_name='Kenji', reasoning=\"Exploit Kenji's mobility for surprise attacks and objective control\", embedding=<src.ai_insights.domain.embedding.Embedding object at 0x0000015508334250>, confidence_score=None),\n",
       " RecommendedCharacterDTO(character_id=16000073, character_name='Chuck', reasoning='Place posts defensively and bait out opponents', embedding=<src.ai_insights.domain.embedding.Embedding object at 0x0000015508334650>, confidence_score=None)]"
      ]
     },
     "execution_count": 46,
     "metadata": {},
     "output_type": "execute_result"
    }
   ],
   "source": [
    "recommendations_objects"
   ]
  },
  {
   "cell_type": "code",
   "execution_count": 52,
   "id": "7b3a7d58",
   "metadata": {},
   "outputs": [],
   "source": [
    "from src.ai_insights.application.use_cases.semantic_search import (\n",
    "    semantic_search\n",
    ")"
   ]
  },
  {
   "cell_type": "code",
   "execution_count": 50,
   "id": "f55276fa",
   "metadata": {},
   "outputs": [
    {
     "data": {
      "text/plain": [
       "RecommendedCharacterDTO(character_id=16000079, character_name='Angelo', reasoning=\"Prioritize mid-range sniping and utilize 'EMPOWER' Star Power for sustain.\", embedding=<src.ai_insights.domain.embedding.Embedding object at 0x00000155083CBF50>, confidence_score=None)"
      ]
     },
     "execution_count": 50,
     "metadata": {},
     "output_type": "execute_result"
    }
   ],
   "source": [
    "recommendations_objects[0]"
   ]
  },
  {
   "cell_type": "code",
   "execution_count": 55,
   "id": "f6ddd0d9",
   "metadata": {},
   "outputs": [
    {
     "data": {
      "text/plain": [
       "[ReplayDTO(id='#YG2C0YPJY', title='Replay 5', character_id=16000073, replay_description='The video shows a competitive match of Brawl Stars, with players using various strategies such as positioning, dodging attacks, and utilizing their abilities to deal damage to opponents. The clip highlights the intense gameplay and teamwork required to succeed in this mobile battle arena game.', embedding=<src.ai_insights.domain.embedding.Embedding object at 0x0000015500FC1130>, video_path='path/5')]"
      ]
     },
     "execution_count": 55,
     "metadata": {},
     "output_type": "execute_result"
    }
   ],
   "source": [
    "replays_list"
   ]
  },
  {
   "cell_type": "code",
   "execution_count": 68,
   "id": "37afd723",
   "metadata": {},
   "outputs": [],
   "source": [
    "\n",
    "for ix in range(len(recovered_replays)):\n",
    "    recovered_replays[ix].embedding.vector = recovered_replays[ix].embedding.vector.reshape(1, -1)\n"
   ]
  },
  {
   "cell_type": "code",
   "execution_count": null,
   "id": "989ee942",
   "metadata": {},
   "outputs": [],
   "source": [
    "recommendations_objects[0].embedding.vector = recommendations_objects[0].embedding.vector.reshape(1, -1)"
   ]
  },
  {
   "cell_type": "code",
   "execution_count": null,
   "id": "df9cf9af",
   "metadata": {},
   "outputs": [
    {
     "data": {
      "text/plain": [
       "[ReplayDTO(id='#9RRRJYG89', title='Replay 1', character_id=16000079, replay_description=\"Leon, utilizing his invisibility and swift attacks, expertly eliminated an unsuspecting enemy Brawler.  A perfectly timed Super secured the knockout, showcasing Leon's lethal stealth capabilities in a crucial moment.\", embedding=<src.ai_insights.domain.embedding.Embedding object at 0x000001550827AD50>, video_path='path/1'),\n",
       " ReplayDTO(id='#8R29PY9RJ', title='Replay 2', character_id=16000085, replay_description=\"The character Hank is shown playing Brawl Stars, a mobile multiplayer battle arena game. The clip shows Hank's interactions with other brawlers, including his use of a Barricade Gadget\", embedding=<src.ai_insights.domain.embedding.Embedding object at 0x0000015508279E50>, video_path='path/2'),\n",
       " ReplayDTO(id='#YG2C0YPJY', title='Replay 5', character_id=16000073, replay_description='The video shows a competitive match of Brawl Stars, with players using various strategies such as positioning, dodging attacks, and utilizing their abilities to deal damage to opponents. The clip highlights the intense gameplay and teamwork required to succeed in this mobile battle arena game.', embedding=<src.ai_insights.domain.embedding.Embedding object at 0x0000015500FC1130>, video_path='path/5')]"
      ]
     },
     "execution_count": 67,
     "metadata": {},
     "output_type": "execute_result"
    }
   ],
   "source": [
    "recommendations_objects[0].embedding.vector.shape\n"
   ]
  },
  {
   "cell_type": "code",
   "execution_count": 70,
   "id": "2b45e594",
   "metadata": {},
   "outputs": [
    {
     "data": {
      "text/plain": [
       "[ReplayDTO(id='#YG2C0YPJY', title='Replay 5', character_id=16000073, replay_description='The video shows a competitive match of Brawl Stars, with players using various strategies such as positioning, dodging attacks, and utilizing their abilities to deal damage to opponents. The clip highlights the intense gameplay and teamwork required to succeed in this mobile battle arena game.', embedding=<src.ai_insights.domain.embedding.Embedding object at 0x0000015500FC1130>, video_path='path/5')]"
      ]
     },
     "execution_count": 70,
     "metadata": {},
     "output_type": "execute_result"
    }
   ],
   "source": [
    "semantic_search(recommendations_objects[0], recovered_replays, 0.3)"
   ]
  },
  {
   "cell_type": "code",
   "execution_count": 43,
   "id": "2762a4ab",
   "metadata": {},
   "outputs": [
    {
     "name": "stdout",
     "output_type": "stream",
     "text": [
      "\u001b[1;31mType:\u001b[0m        module\n",
      "\u001b[1;31mString form:\u001b[0m <module 'src.ai_insights.application.use_cases.semantic_search' from 'c:\\\\Users\\\\cumpl\\\\TecLeo\\\\Semestre8\\\\Supercell\\\\Supercell_AI_Insights\\\\src\\\\ai_insights\\\\application\\\\use_cases\\\\semantic_search.py'>\n",
      "\u001b[1;31mFile:\u001b[0m        c:\\users\\cumpl\\tecleo\\semestre8\\supercell\\supercell_ai_insights\\src\\ai_insights\\application\\use_cases\\semantic_search.py\n",
      "\u001b[1;31mSource:\u001b[0m     \n",
      "\u001b[1;34m\"\"\"Module providing semantic search functionality for recommendations and replay descriptions.\n",
      "\n",
      "This module implements semantic search capabilities using embeddings to filter\n",
      "replays based on their description's similarity with a text, which is\n",
      "the recommendations made by our system. It handles:\n",
      "- Similarity calculations\n",
      "- Threshold-based filtering of results\n",
      "\"\"\"\u001b[0m\u001b[1;33m\n",
      "\u001b[0m\u001b[1;33m\n",
      "\u001b[0m\u001b[1;32mfrom\u001b[0m \u001b[0mtyping\u001b[0m \u001b[1;32mimport\u001b[0m \u001b[0mDict\u001b[0m\u001b[1;33m,\u001b[0m \u001b[0mAny\u001b[0m\u001b[1;33m,\u001b[0m \u001b[0mList\u001b[0m\u001b[1;33m\n",
      "\u001b[0m\u001b[1;32mfrom\u001b[0m \u001b[0msklearn\u001b[0m\u001b[1;33m.\u001b[0m\u001b[0mmetrics\u001b[0m\u001b[1;33m.\u001b[0m\u001b[0mpairwise\u001b[0m \u001b[1;32mimport\u001b[0m \u001b[0mcosine_similarity\u001b[0m\u001b[1;33m\n",
      "\u001b[0m\u001b[1;33m\n",
      "\u001b[0m\u001b[1;32mfrom\u001b[0m \u001b[0msrc\u001b[0m\u001b[1;33m.\u001b[0m\u001b[0mai_insights\u001b[0m\u001b[1;33m.\u001b[0m\u001b[0mapplication\u001b[0m\u001b[1;33m.\u001b[0m\u001b[0mdtos\u001b[0m\u001b[1;33m.\u001b[0m\u001b[0minsight_dtos\u001b[0m \u001b[1;32mimport\u001b[0m \u001b[1;33m(\u001b[0m\u001b[1;33m\n",
      "\u001b[0m    \u001b[0mRecommendedCharacterDTO\u001b[0m\u001b[1;33m,\u001b[0m\u001b[1;33m\n",
      "\u001b[0m\u001b[1;33m)\u001b[0m\u001b[1;33m\n",
      "\u001b[0m\u001b[1;32mfrom\u001b[0m \u001b[0msrc\u001b[0m\u001b[1;33m.\u001b[0m\u001b[0mai_insights\u001b[0m\u001b[1;33m.\u001b[0m\u001b[0mapplication\u001b[0m\u001b[1;33m.\u001b[0m\u001b[0mdtos\u001b[0m\u001b[1;33m.\u001b[0m\u001b[0mreplay\u001b[0m \u001b[1;32mimport\u001b[0m \u001b[0mReplayDTO\u001b[0m\u001b[1;33m\n",
      "\u001b[0m\u001b[1;33m\n",
      "\u001b[0m\u001b[1;33m\n",
      "\u001b[0m\u001b[1;32mdef\u001b[0m \u001b[0msemantic_search\u001b[0m\u001b[1;33m(\u001b[0m\u001b[1;33m\n",
      "\u001b[0m    \u001b[0mrecommendation\u001b[0m\u001b[1;33m:\u001b[0m \u001b[0mRecommendedCharacterDTO\u001b[0m\u001b[1;33m,\u001b[0m\u001b[1;33m\n",
      "\u001b[0m    \u001b[0mreplays\u001b[0m\u001b[1;33m:\u001b[0m \u001b[0mList\u001b[0m\u001b[1;33m[\u001b[0m\u001b[0mReplayDTO\u001b[0m\u001b[1;33m]\u001b[0m\u001b[1;33m,\u001b[0m\u001b[1;33m\n",
      "\u001b[0m    \u001b[0mtreshold\u001b[0m\u001b[1;33m:\u001b[0m \u001b[0mDict\u001b[0m\u001b[1;33m[\u001b[0m\u001b[0mstr\u001b[0m\u001b[1;33m,\u001b[0m \u001b[0mAny\u001b[0m\u001b[1;33m]\u001b[0m\u001b[1;33m,\u001b[0m\u001b[1;33m\n",
      "\u001b[0m\u001b[1;33m)\u001b[0m \u001b[1;33m->\u001b[0m \u001b[0mList\u001b[0m\u001b[1;33m[\u001b[0m\u001b[0mReplayDTO\u001b[0m\u001b[1;33m]\u001b[0m\u001b[1;33m:\u001b[0m\u001b[1;33m\n",
      "\u001b[0m    \u001b[1;34m\"\"\"x\n",
      "    Perform semantic search to find relevant replays based on the recommendation.\n",
      "\n",
      "    Args:\n",
      "        recommendation: The recommendation object containing the embedding\n",
      "        replays: List of replay objects to search through\n",
      "        treshold: Threshold for filtering relevant replays based on cosine similarity\n",
      "    Returns:\n",
      "        List of relevant replays that match the recommendation.\n",
      "    \"\"\"\u001b[0m\u001b[1;33m\n",
      "\u001b[0m\u001b[1;33m\n",
      "\u001b[0m    \u001b[0mrelevant_replays\u001b[0m \u001b[1;33m=\u001b[0m \u001b[1;33m[\u001b[0m\u001b[1;33m\n",
      "\u001b[0m        \u001b[0mreplay\u001b[0m\u001b[1;33m\n",
      "\u001b[0m        \u001b[1;32mfor\u001b[0m \u001b[0mreplay\u001b[0m \u001b[1;32min\u001b[0m \u001b[0mreplays\u001b[0m\u001b[1;33m\n",
      "\u001b[0m        \u001b[1;32mif\u001b[0m \u001b[0mcosine_similarity\u001b[0m\u001b[1;33m(\u001b[0m\u001b[0mrecommendation\u001b[0m\u001b[1;33m.\u001b[0m\u001b[0membedding\u001b[0m\u001b[1;33m.\u001b[0m\u001b[0mvector\u001b[0m\u001b[1;33m,\u001b[0m \u001b[0mreplay\u001b[0m\u001b[1;33m.\u001b[0m\u001b[0membedding\u001b[0m\u001b[1;33m.\u001b[0m\u001b[0mvector\u001b[0m\u001b[1;33m)\u001b[0m\u001b[1;33m\n",
      "\u001b[0m        \u001b[1;33m>\u001b[0m \u001b[0mtreshold\u001b[0m\u001b[1;33m\n",
      "\u001b[0m    \u001b[1;33m]\u001b[0m\u001b[1;33m\n",
      "\u001b[0m\u001b[1;33m\n",
      "\u001b[0m    \u001b[1;32mreturn\u001b[0m \u001b[0mrelevant_replays\u001b[0m\u001b[1;33m\u001b[0m\u001b[1;33m\u001b[0m\u001b[0m"
     ]
    }
   ],
   "source": [
    "semantic_search??"
   ]
  }
 ],
 "metadata": {
  "kernelspec": {
   "display_name": "Python 3",
   "language": "python",
   "name": "python3"
  },
  "language_info": {
   "codemirror_mode": {
    "name": "ipython",
    "version": 3
   },
   "file_extension": ".py",
   "mimetype": "text/x-python",
   "name": "python",
   "nbconvert_exporter": "python",
   "pygments_lexer": "ipython3",
   "version": "3.13.2"
  }
 },
 "nbformat": 4,
 "nbformat_minor": 5
}
